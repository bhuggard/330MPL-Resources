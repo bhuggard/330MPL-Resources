{
 "cells": [
  {
   "cell_type": "markdown",
   "metadata": {
    "colab_type": "text",
    "id": "UGqk3SzXsMR3",
    "tags": []
   },
   "source": [
    "# SI 330 - Homework #2: Time Series and Visualization"
   ]
  },
  {
   "cell_type": "markdown",
   "metadata": {
    "colab_type": "text",
    "id": "Crxe7LeXJ9yn"
   },
   "source": [
    "## Background"
   ]
  },
  {
   "cell_type": "markdown",
   "metadata": {
    "colab_type": "text",
    "id": "1IaTA3GNJ9yo"
   },
   "source": [
    "We are going to return to the environmental sensor data that we introduced earlier in this section of the course."
   ]
  },
  {
   "cell_type": "markdown",
   "metadata": {
    "colab_type": "text",
    "id": "jae-nANHJ9yp"
   },
   "source": [
    "Your main task in this assignment is to explore the data *using the time series manipulation methods and visualization techniques we covered in class* as well as those in the assigned readings.  You may need to consult pandas documentation, Stack Overflow, or other online resources.  \n"
   ]
  },
  {
   "cell_type": "markdown",
   "metadata": {
    "colab_type": "text",
    "id": "pbqbtPreaCjs"
   },
   "source": [
    "A total of 50 points is available in this homework assignment, consisting of:\n",
    "- 40 points for completing the specific homework questions. More comprehensive \n",
    "answers will tend to gain more points.\n",
    "- 5 points for the overall quality of spelling, grammar, punctuation, and style of written responses.  (see https://faculty.washington.edu/heagerty/Courses/b572/public/StrunkWhite.pdf for a detailed specifications).\n",
    "- 5 points for creating code that conforms to [PEP 8](https://www.python.org/dev/peps/pep-0008/) guidelines.  You should review those guidelines before proceding with the assignment.\n"
   ]
  },
  {
   "cell_type": "markdown",
   "metadata": {
    "colab_type": "text",
    "id": "Pr9WBUQyZY4V",
    "tags": []
   },
   "source": [
    "## 0. Download the data from: \n",
    "Load the data from https://raw.githubusercontent.com/umsi-data-science/data/main/aranet4.csv into a DataFrame."
   ]
  },
  {
   "cell_type": "markdown",
   "metadata": {
    "colab_type": "text",
    "id": "8EV1PilWtl0Z"
   },
   "source": [
    "## 1. Answer the questions below. \n",
    "For each question, you should\n",
    "1. Write code using Python and pandas that can help you answer the following questions, and\n",
    "2. Explain your answers in plain English. You should use complete sentences that would be understood by an educated professional who is not necessarily a data scientist (like a product manager)."
   ]
  },
  {
   "cell_type": "markdown",
   "metadata": {
    "colab_type": "text",
    "id": "PfjXDtHoabcS"
   },
   "source": [
    "### Q1 (10 points): Create a scatterplot that shows the relationship between relative humidity (as the dependent or y-axis variable) and temperature (as the independent or x-axis variable).\n",
    "Be sure to label the axes and provide a title for your chart.\n",
    "Is there anything interesting to report based on your visualization?"
   ]
  },
  {
   "cell_type": "code",
   "execution_count": 2,
   "metadata": {
    "colab": {},
    "colab_type": "code",
    "id": "ttHwVC8ot5Ur"
   },
   "outputs": [],
   "source": [
    "import pandas as pd\n",
    "import numpy as np\n",
    "import matplotlib.pyplot as plt\n"
   ]
  },
  {
   "cell_type": "code",
   "execution_count": 7,
   "metadata": {},
   "outputs": [
    {
     "data": {
      "text/html": [
       "<div>\n",
       "<style scoped>\n",
       "    .dataframe tbody tr th:only-of-type {\n",
       "        vertical-align: middle;\n",
       "    }\n",
       "\n",
       "    .dataframe tbody tr th {\n",
       "        vertical-align: top;\n",
       "    }\n",
       "\n",
       "    .dataframe thead th {\n",
       "        text-align: right;\n",
       "    }\n",
       "</style>\n",
       "<table border=\"1\" class=\"dataframe\">\n",
       "  <thead>\n",
       "    <tr style=\"text-align: right;\">\n",
       "      <th></th>\n",
       "      <th>Time</th>\n",
       "      <th>Carbon dioxide(ppm)</th>\n",
       "      <th>Temperature(°C)</th>\n",
       "      <th>Relative humidity(%)</th>\n",
       "      <th>Atmospheric pressure(hPa)</th>\n",
       "    </tr>\n",
       "  </thead>\n",
       "  <tbody>\n",
       "    <tr>\n",
       "      <th>0</th>\n",
       "      <td>1/18/2022 9:46:13 PM</td>\n",
       "      <td>1656</td>\n",
       "      <td>15.0</td>\n",
       "      <td>52</td>\n",
       "      <td>990</td>\n",
       "    </tr>\n",
       "    <tr>\n",
       "      <th>1</th>\n",
       "      <td>1/18/2022 9:47:13 PM</td>\n",
       "      <td>1656</td>\n",
       "      <td>15.0</td>\n",
       "      <td>52</td>\n",
       "      <td>990</td>\n",
       "    </tr>\n",
       "    <tr>\n",
       "      <th>2</th>\n",
       "      <td>1/18/2022 9:48:13 PM</td>\n",
       "      <td>1656</td>\n",
       "      <td>15.0</td>\n",
       "      <td>52</td>\n",
       "      <td>990</td>\n",
       "    </tr>\n",
       "    <tr>\n",
       "      <th>3</th>\n",
       "      <td>1/18/2022 9:49:13 PM</td>\n",
       "      <td>1010</td>\n",
       "      <td>17.9</td>\n",
       "      <td>40</td>\n",
       "      <td>990</td>\n",
       "    </tr>\n",
       "    <tr>\n",
       "      <th>4</th>\n",
       "      <td>1/18/2022 9:50:13 PM</td>\n",
       "      <td>956</td>\n",
       "      <td>18.3</td>\n",
       "      <td>39</td>\n",
       "      <td>990</td>\n",
       "    </tr>\n",
       "  </tbody>\n",
       "</table>\n",
       "</div>"
      ],
      "text/plain": [
       "                   Time  Carbon dioxide(ppm)  Temperature(°C)  \\\n",
       "0  1/18/2022 9:46:13 PM                 1656             15.0   \n",
       "1  1/18/2022 9:47:13 PM                 1656             15.0   \n",
       "2  1/18/2022 9:48:13 PM                 1656             15.0   \n",
       "3  1/18/2022 9:49:13 PM                 1010             17.9   \n",
       "4  1/18/2022 9:50:13 PM                  956             18.3   \n",
       "\n",
       "   Relative humidity(%)  Atmospheric pressure(hPa)  \n",
       "0                    52                        990  \n",
       "1                    52                        990  \n",
       "2                    52                        990  \n",
       "3                    40                        990  \n",
       "4                    39                        990  "
      ]
     },
     "execution_count": 7,
     "metadata": {},
     "output_type": "execute_result"
    }
   ],
   "source": [
    "aranet = pd.read_csv('https://raw.githubusercontent.com/umsi-data-science/data/main/aranet4.csv')\n",
    "aranet.head(5)"
   ]
  },
  {
   "cell_type": "code",
   "execution_count": 8,
   "metadata": {},
   "outputs": [
    {
     "data": {
      "text/html": [
       "<div>\n",
       "<style scoped>\n",
       "    .dataframe tbody tr th:only-of-type {\n",
       "        vertical-align: middle;\n",
       "    }\n",
       "\n",
       "    .dataframe tbody tr th {\n",
       "        vertical-align: top;\n",
       "    }\n",
       "\n",
       "    .dataframe thead th {\n",
       "        text-align: right;\n",
       "    }\n",
       "</style>\n",
       "<table border=\"1\" class=\"dataframe\">\n",
       "  <thead>\n",
       "    <tr style=\"text-align: right;\">\n",
       "      <th></th>\n",
       "      <th>Carbon dioxide(ppm)</th>\n",
       "      <th>Temperature(°C)</th>\n",
       "      <th>Relative humidity(%)</th>\n",
       "      <th>Atmospheric pressure(hPa)</th>\n",
       "    </tr>\n",
       "  </thead>\n",
       "  <tbody>\n",
       "    <tr>\n",
       "      <th>count</th>\n",
       "      <td>5773.000000</td>\n",
       "      <td>5773.000000</td>\n",
       "      <td>5773.000000</td>\n",
       "      <td>5773.000000</td>\n",
       "    </tr>\n",
       "    <tr>\n",
       "      <th>mean</th>\n",
       "      <td>630.763208</td>\n",
       "      <td>17.754062</td>\n",
       "      <td>24.391478</td>\n",
       "      <td>1000.933830</td>\n",
       "    </tr>\n",
       "    <tr>\n",
       "      <th>std</th>\n",
       "      <td>176.136803</td>\n",
       "      <td>1.803766</td>\n",
       "      <td>3.507078</td>\n",
       "      <td>9.760638</td>\n",
       "    </tr>\n",
       "    <tr>\n",
       "      <th>min</th>\n",
       "      <td>441.000000</td>\n",
       "      <td>7.300000</td>\n",
       "      <td>15.000000</td>\n",
       "      <td>983.000000</td>\n",
       "    </tr>\n",
       "    <tr>\n",
       "      <th>25%</th>\n",
       "      <td>510.000000</td>\n",
       "      <td>16.700000</td>\n",
       "      <td>22.000000</td>\n",
       "      <td>992.000000</td>\n",
       "    </tr>\n",
       "    <tr>\n",
       "      <th>50%</th>\n",
       "      <td>611.000000</td>\n",
       "      <td>18.300000</td>\n",
       "      <td>24.000000</td>\n",
       "      <td>1002.000000</td>\n",
       "    </tr>\n",
       "    <tr>\n",
       "      <th>75%</th>\n",
       "      <td>684.000000</td>\n",
       "      <td>18.800000</td>\n",
       "      <td>26.000000</td>\n",
       "      <td>1009.000000</td>\n",
       "    </tr>\n",
       "    <tr>\n",
       "      <th>max</th>\n",
       "      <td>2263.000000</td>\n",
       "      <td>22.200000</td>\n",
       "      <td>52.000000</td>\n",
       "      <td>1017.000000</td>\n",
       "    </tr>\n",
       "  </tbody>\n",
       "</table>\n",
       "</div>"
      ],
      "text/plain": [
       "       Carbon dioxide(ppm)  Temperature(°C)  Relative humidity(%)  \\\n",
       "count          5773.000000      5773.000000           5773.000000   \n",
       "mean            630.763208        17.754062             24.391478   \n",
       "std             176.136803         1.803766              3.507078   \n",
       "min             441.000000         7.300000             15.000000   \n",
       "25%             510.000000        16.700000             22.000000   \n",
       "50%             611.000000        18.300000             24.000000   \n",
       "75%             684.000000        18.800000             26.000000   \n",
       "max            2263.000000        22.200000             52.000000   \n",
       "\n",
       "       Atmospheric pressure(hPa)  \n",
       "count                5773.000000  \n",
       "mean                 1000.933830  \n",
       "std                     9.760638  \n",
       "min                   983.000000  \n",
       "25%                   992.000000  \n",
       "50%                  1002.000000  \n",
       "75%                  1009.000000  \n",
       "max                  1017.000000  "
      ]
     },
     "execution_count": 8,
     "metadata": {},
     "output_type": "execute_result"
    }
   ],
   "source": [
    "aranet.describe()"
   ]
  },
  {
   "cell_type": "code",
   "execution_count": 11,
   "metadata": {},
   "outputs": [
    {
     "data": {
      "text/plain": [
       "<AxesSubplot:title={'center':'Question #1- Brandon Huggard'}, xlabel='Temperature(°C)', ylabel='Relative humidity(%)'>"
      ]
     },
     "execution_count": 11,
     "metadata": {},
     "output_type": "execute_result"
    },
    {
     "data": {
      "image/png": "[encoded data removed]",
      "text/plain": [
       "<Figure size 432x288 with 1 Axes>"
      ]
     },
     "metadata": {
      "needs_background": "light"
     },
     "output_type": "display_data"
    }
   ],
   "source": [
    "aranet.plot.scatter(title= 'Question #1- Brandon Huggard', x= 'Temperature(°C)', y='Relative humidity(%)')"
   ]
  },
  {
   "cell_type": "markdown",
   "metadata": {
    "colab_type": "text",
    "id": "g1RAXO76uN-A"
   },
   "source": [
    "I created a scatterplot with relative humidity on the y axis and termperature on the x axis, I used the .plot function in pandas setting the x and y to respective series from the dataframe."
   ]
  },
  {
   "cell_type": "markdown",
   "metadata": {
    "colab_type": "text",
    "id": "tbmL9-kta0o4"
   },
   "source": [
    "### Q2 (10 points): Create a box plot of Atmospheric Pressure.\n",
    "Use annotation to indicate the median, maximum, and minimum values. (note: you might want to use something like .describe() to get the actual values)."
   ]
  },
  {
   "cell_type": "code",
   "execution_count": 21,
   "metadata": {},
   "outputs": [
    {
     "data": {
      "text/html": [
       "<div>\n",
       "<style scoped>\n",
       "    .dataframe tbody tr th:only-of-type {\n",
       "        vertical-align: middle;\n",
       "    }\n",
       "\n",
       "    .dataframe tbody tr th {\n",
       "        vertical-align: top;\n",
       "    }\n",
       "\n",
       "    .dataframe thead th {\n",
       "        text-align: right;\n",
       "    }\n",
       "</style>\n",
       "<table border=\"1\" class=\"dataframe\">\n",
       "  <thead>\n",
       "    <tr style=\"text-align: right;\">\n",
       "      <th></th>\n",
       "      <th>Carbon dioxide(ppm)</th>\n",
       "      <th>Temperature(°C)</th>\n",
       "      <th>Relative humidity(%)</th>\n",
       "      <th>Atmospheric pressure(hPa)</th>\n",
       "    </tr>\n",
       "  </thead>\n",
       "  <tbody>\n",
       "    <tr>\n",
       "      <th>count</th>\n",
       "      <td>5773.000000</td>\n",
       "      <td>5773.000000</td>\n",
       "      <td>5773.000000</td>\n",
       "      <td>5773.000000</td>\n",
       "    </tr>\n",
       "    <tr>\n",
       "      <th>mean</th>\n",
       "      <td>630.763208</td>\n",
       "      <td>17.754062</td>\n",
       "      <td>24.391478</td>\n",
       "      <td>1000.933830</td>\n",
       "    </tr>\n",
       "    <tr>\n",
       "      <th>std</th>\n",
       "      <td>176.136803</td>\n",
       "      <td>1.803766</td>\n",
       "      <td>3.507078</td>\n",
       "      <td>9.760638</td>\n",
       "    </tr>\n",
       "    <tr>\n",
       "      <th>min</th>\n",
       "      <td>441.000000</td>\n",
       "      <td>7.300000</td>\n",
       "      <td>15.000000</td>\n",
       "      <td>983.000000</td>\n",
       "    </tr>\n",
       "    <tr>\n",
       "      <th>25%</th>\n",
       "      <td>510.000000</td>\n",
       "      <td>16.700000</td>\n",
       "      <td>22.000000</td>\n",
       "      <td>992.000000</td>\n",
       "    </tr>\n",
       "    <tr>\n",
       "      <th>50%</th>\n",
       "      <td>611.000000</td>\n",
       "      <td>18.300000</td>\n",
       "      <td>24.000000</td>\n",
       "      <td>1002.000000</td>\n",
       "    </tr>\n",
       "    <tr>\n",
       "      <th>75%</th>\n",
       "      <td>684.000000</td>\n",
       "      <td>18.800000</td>\n",
       "      <td>26.000000</td>\n",
       "      <td>1009.000000</td>\n",
       "    </tr>\n",
       "    <tr>\n",
       "      <th>max</th>\n",
       "      <td>2263.000000</td>\n",
       "      <td>22.200000</td>\n",
       "      <td>52.000000</td>\n",
       "      <td>1017.000000</td>\n",
       "    </tr>\n",
       "  </tbody>\n",
       "</table>\n",
       "</div>"
      ],
      "text/plain": [
       "       Carbon dioxide(ppm)  Temperature(°C)  Relative humidity(%)  \\\n",
       "count          5773.000000      5773.000000           5773.000000   \n",
       "mean            630.763208        17.754062             24.391478   \n",
       "std             176.136803         1.803766              3.507078   \n",
       "min             441.000000         7.300000             15.000000   \n",
       "25%             510.000000        16.700000             22.000000   \n",
       "50%             611.000000        18.300000             24.000000   \n",
       "75%             684.000000        18.800000             26.000000   \n",
       "max            2263.000000        22.200000             52.000000   \n",
       "\n",
       "       Atmospheric pressure(hPa)  \n",
       "count                5773.000000  \n",
       "mean                 1000.933830  \n",
       "std                     9.760638  \n",
       "min                   983.000000  \n",
       "25%                   992.000000  \n",
       "50%                  1002.000000  \n",
       "75%                  1009.000000  \n",
       "max                  1017.000000  "
      ]
     },
     "execution_count": 21,
     "metadata": {},
     "output_type": "execute_result"
    }
   ],
   "source": [
    "aranet.describe()"
   ]
  },
  {
   "cell_type": "code",
   "execution_count": 57,
   "metadata": {
    "colab": {},
    "colab_type": "code",
    "id": "33LcHThyt5_N"
   },
   "outputs": [
    {
     "data": {
      "text/plain": [
       "Text(0.6, 983, 'Minimum (983)')"
      ]
     },
     "execution_count": 57,
     "metadata": {},
     "output_type": "execute_result"
    },
    {
     "data": {
      "image/png": "[encoded data removed]",
      "text/plain": [
       "<Figure size 432x288 with 1 Axes>"
      ]
     },
     "metadata": {
      "needs_background": "light"
     },
     "output_type": "display_data"
    }
   ],
   "source": [
    "plt.boxplot(aranet['Atmospheric pressure(hPa)'])\n",
    "plt.annotate('Maximum (1017)', xy=(.95, 1017), xytext=(.6, 1015),\n",
    "            arrowprops=dict(facecolor='red', shrink=0.05),\n",
    "            )\n",
    "plt.annotate('Median (1002)', xy=(.92, 1002), xytext=(.6, 1002),\n",
    "            arrowprops=dict(facecolor='gold', shrink=0.05),\n",
    "            )\n",
    "plt.annotate('Minimum (983)', xy=(.95, 983), xytext=(.6, 983),\n",
    "            arrowprops=dict(facecolor='green', shrink=0.05),\n",
    "            )\n"
   ]
  },
  {
   "cell_type": "markdown",
   "metadata": {
    "colab_type": "text",
    "id": "FD6-7-D-uWmX"
   },
   "source": [
    "Using matplotlib I created a boxplot on the series Atmospheric Pressure from the DataFrame given. I used the annotate function to add notes accordingly with different colors because I think it looks nice."
   ]
  },
  {
   "cell_type": "markdown",
   "metadata": {
    "colab_type": "text",
    "id": "0u5VM5ksbCTm"
   },
   "source": [
    "### Q3 (10 points): Create a line chart of the maximum hourly carbon dioxide concentrations for January 20, 2022. \n",
    "Note that the values are reported every two minutes; you need to report the hourly maximum values."
   ]
  },
  {
   "cell_type": "code",
   "execution_count": 90,
   "metadata": {
    "colab": {},
    "colab_type": "code",
    "id": "JtI8ru2at6ZU"
   },
   "outputs": [
    {
     "data": {
      "text/plain": [
       "<AxesSubplot:title={'center':'Question #3- Brandon Huggard'}, xlabel='Time', ylabel='Carbon Dioxide (PPM)'>"
      ]
     },
     "execution_count": 90,
     "metadata": {},
     "output_type": "execute_result"
    },
    {
     "data": {
      "image/png": "[encoded data removed]",
      "text/plain": [
       "<Figure size 432x288 with 1 Axes>"
      ]
     },
     "metadata": {
      "needs_background": "light"
     },
     "output_type": "display_data"
    }
   ],
   "source": [
    "aranet.index = pd.to_datetime(aranet.index)\n",
    "jan20 = aranet.loc['2022-01-20', :]\n",
    "jan20[\"Carbon dioxide(ppm)\"].resample(\"1H\").max().plot(title='Question #3- Brandon Huggard', color= 'navy', ylabel= 'Carbon Dioxide (PPM)', xlabel = 'Time')"
   ]
  },
  {
   "cell_type": "markdown",
   "metadata": {
    "colab_type": "text",
    "id": "CCuxztg3uYPQ"
   },
   "source": [
    "Setting the time index to a datetime datatype I was able to then locate January 20th as a day and from there resample into an hourly breakdown, find the max value from each sample point, and plot it accordingly with c"
   ]
  },
  {
   "cell_type": "markdown",
   "metadata": {
    "colab_type": "text",
    "id": "2wH5ikUcbb16"
   },
   "source": [
    "### Q4 (10 points): Create a line chart for the values of carbon dioxide for January 21, 2022.  \n",
    "\n",
    "When coloring your markers and/or lines, use green for values less than 1000, orange for values between 1000 and 1400, and red for values greater than 1400."
   ]
  },
  {
   "cell_type": "code",
   "execution_count": 97,
   "metadata": {
    "colab": {},
    "colab_type": "code",
    "id": "GneWWgFVt62N"
   },
   "outputs": [
    {
     "data": {
      "text/plain": [
       "Carbon dioxide(ppm)            int64\n",
       "Temperature(°C)              float64\n",
       "Relative humidity(%)           int64\n",
       "Atmospheric pressure(hPa)      int64\n",
       "dtype: object"
      ]
     },
     "execution_count": 97,
     "metadata": {},
     "output_type": "execute_result"
    }
   ],
   "source": [
    "jan21= aranet.loc['2022-01-21', :]\n",
    "jan21.dtypes"
   ]
  },
  {
   "cell_type": "code",
   "execution_count": 153,
   "metadata": {},
   "outputs": [
    {
     "data": {
      "text/plain": [
       "<AxesSubplot:title={'center':'Question #4- Brandon Huggard'}, xlabel='Time'>"
      ]
     },
     "execution_count": 153,
     "metadata": {},
     "output_type": "execute_result"
    },
    {
     "data": {
      "image/png": "[encoded data removed]",
      "text/plain": [
       "<Figure size 432x288 with 1 Axes>"
      ]
     },
     "metadata": {
      "needs_background": "light"
     },
     "output_type": "display_data"
    }
   ],
   "source": [
    "green = jan21[\"Carbon dioxide(ppm)\"].where(jan21[\"Carbon dioxide(ppm)\"] < 1000)\n",
    "red = jan21[\"Carbon dioxide(ppm)\"].where(jan21[\"Carbon dioxide(ppm)\"] > 1400)\n",
    "\n",
    "jan21[\"Carbon dioxide(ppm)\"].plot(title= 'Question #4- Brandon Huggard')\n",
    "green.plot(color= 'green')\n",
    "red.plot(color= 'red')"
   ]
  },
  {
   "cell_type": "markdown",
   "metadata": {},
   "source": []
  },
  {
   "cell_type": "markdown",
   "metadata": {
    "colab_type": "text",
    "id": "zKkwrNfbJ9zN"
   },
   "source": [
    "## Please submit your completed notebook in .IPYNB and .HTML formats via Canvas"
   ]
  },
  {
   "cell_type": "code",
   "execution_count": null,
   "metadata": {
    "colab": {},
    "colab_type": "code",
    "id": "LwtJoLsVJ9zO"
   },
   "outputs": [],
   "source": []
  }
 ],
 "metadata": {
  "colab": {
   "collapsed_sections": [],
   "name": "SI 618 FA 2018 Homework 1.ipynb",
   "provenance": [],
   "version": "0.3.2"
  },
  "kernelspec": {
   "display_name": "Python 3",
   "language": "python",
   "name": "python3"
  },
  "language_info": {
   "codemirror_mode": {
    "name": "ipython",
    "version": 3
   },
   "file_extension": ".py",
   "mimetype": "text/x-python",
   "name": "python",
   "nbconvert_exporter": "python",
   "pygments_lexer": "ipython3",
   "version": "3.8.5"
  }
 },
 "nbformat": 4,
 "nbformat_minor": 4
}
